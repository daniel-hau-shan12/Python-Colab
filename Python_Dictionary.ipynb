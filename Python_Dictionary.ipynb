{
  "nbformat": 4,
  "nbformat_minor": 0,
  "metadata": {
    "colab": {
      "provenance": [],
      "authorship_tag": "ABX9TyOJSg91p3BzO2NsFvNBX2Yv",
      "include_colab_link": true
    },
    "kernelspec": {
      "name": "python3",
      "display_name": "Python 3"
    },
    "language_info": {
      "name": "python"
    }
  },
  "cells": [
    {
      "cell_type": "markdown",
      "metadata": {
        "id": "view-in-github",
        "colab_type": "text"
      },
      "source": [
        "<a href=\"https://colab.research.google.com/github/daniel-hau-shan12/Python-Colab/blob/main/Python_Dictionary.ipynb\" target=\"_parent\"><img src=\"https://colab.research.google.com/assets/colab-badge.svg\" alt=\"Open In Colab\"/></a>"
      ]
    },
    {
      "cell_type": "markdown",
      "source": [
        "### Python Dict\n",
        "We use curly braces {} and colon:\n",
        "It consists of a key and a value pair"
      ],
      "metadata": {
        "id": "UdL_HgH2lSsT"
      }
    },
    {
      "cell_type": "code",
      "source": [
        "my_dict = {1:2, \"ahmed\":4, 2.3:[\"a\",5,2,1]}\n",
        "print(my_dict.get(1))\n",
        "print(my_dict.get(2))\n",
        "print(my_dict.get(\"ahmed\"))"
      ],
      "metadata": {
        "colab": {
          "base_uri": "https://localhost:8080/"
        },
        "id": "CM1DHhGoldca",
        "outputId": "442fe161-3e42-4ad2-9a56-d18d44cb95d6"
      },
      "execution_count": 3,
      "outputs": [
        {
          "output_type": "stream",
          "name": "stdout",
          "text": [
            "2\n",
            "None\n",
            "4\n"
          ]
        }
      ]
    },
    {
      "cell_type": "markdown",
      "source": [
        "### Repeated keys"
      ],
      "metadata": {
        "id": "MnJb_BK-mk2H"
      }
    },
    {
      "cell_type": "code",
      "source": [
        "my_dict = {1:2, \"ahmed\":4, 1:[\"a\",5,2,1]}\n",
        "print(my_dict)"
      ],
      "metadata": {
        "colab": {
          "base_uri": "https://localhost:8080/"
        },
        "id": "oJasg5JXmnUZ",
        "outputId": "dd7b7ff1-6ae2-4fd6-c8cd-f0ba833530b0"
      },
      "execution_count": 4,
      "outputs": [
        {
          "output_type": "stream",
          "name": "stdout",
          "text": [
            "{1: ['a', 5, 2, 1], 'ahmed': 4}\n"
          ]
        }
      ]
    },
    {
      "cell_type": "code",
      "source": [
        "print(type(my_dict))"
      ],
      "metadata": {
        "colab": {
          "base_uri": "https://localhost:8080/"
        },
        "id": "lxwWG3WOmsej",
        "outputId": "6284dcc9-0cbb-4671-9cb8-07e3a4e67806"
      },
      "execution_count": 5,
      "outputs": [
        {
          "output_type": "stream",
          "name": "stdout",
          "text": [
            "<class 'dict'>\n"
          ]
        }
      ]
    },
    {
      "cell_type": "markdown",
      "source": [
        "### Note\n",
        "Dict items are accessed using their keys not their values"
      ],
      "metadata": {
        "id": "kwPDQRWonaxY"
      }
    },
    {
      "cell_type": "markdown",
      "source": [
        "### How to check if a key exists or not"
      ],
      "metadata": {
        "id": "N3-wrbGcn3q5"
      }
    },
    {
      "cell_type": "code",
      "source": [
        "print(1 in my_dict)"
      ],
      "metadata": {
        "colab": {
          "base_uri": "https://localhost:8080/"
        },
        "id": "e9rJAWjzn8Tx",
        "outputId": "3e0c60cd-c7ee-4546-8b62-3f9fb0ea7d8a"
      },
      "execution_count": 6,
      "outputs": [
        {
          "output_type": "stream",
          "name": "stdout",
          "text": [
            "True\n"
          ]
        }
      ]
    },
    {
      "cell_type": "code",
      "source": [
        "print(5 in my_dict)"
      ],
      "metadata": {
        "colab": {
          "base_uri": "https://localhost:8080/"
        },
        "id": "o_HOC3pun_1W",
        "outputId": "02602aaf-55ea-4b72-89c9-044e718e66d2"
      },
      "execution_count": 7,
      "outputs": [
        {
          "output_type": "stream",
          "name": "stdout",
          "text": [
            "False\n"
          ]
        }
      ]
    },
    {
      "cell_type": "markdown",
      "source": [
        "### What are the Dictionary functions\n",
        "https://docs.python.org/3/"
      ],
      "metadata": {
        "id": "4lv1m6sPoWg_"
      }
    },
    {
      "cell_type": "markdown",
      "source": [
        "### Clear function"
      ],
      "metadata": {
        "id": "RjWB6zGGpaOg"
      }
    },
    {
      "cell_type": "code",
      "source": [
        "my_dict2 = {1:2, 3:4, 5:6,7:8}\n",
        "print(my_dict2)\n",
        "my_dict2.clear()\n",
        "print(my_dict2)"
      ],
      "metadata": {
        "colab": {
          "base_uri": "https://localhost:8080/"
        },
        "id": "e75g5iRlpccM",
        "outputId": "5242072c-a152-4abe-a0d5-843c52f8976e"
      },
      "execution_count": 9,
      "outputs": [
        {
          "output_type": "stream",
          "name": "stdout",
          "text": [
            "{1: 2, 3: 4, 5: 6, 7: 8}\n",
            "{}\n"
          ]
        }
      ]
    },
    {
      "cell_type": "markdown",
      "source": [
        "### Fromkeys function"
      ],
      "metadata": {
        "id": "8xWRAIDvqL9u"
      }
    },
    {
      "cell_type": "code",
      "source": [
        "fruits = {'apple':1, 'mangos':2, 'oranges':4, 'grapes':3}\n",
        "print(fruits)\n",
        "my_fruits = [\"apple\", \"oranges\"]\n",
        "fruits_from_key = fruits.fromkeys(my_fruits, [0,1,5])\n",
        "print(fruits_from_key)\n",
        "print(fruits)"
      ],
      "metadata": {
        "colab": {
          "base_uri": "https://localhost:8080/"
        },
        "id": "5spwJAz2qPjO",
        "outputId": "c7c33211-c9fe-4943-b4ef-58460aff6fa3"
      },
      "execution_count": 11,
      "outputs": [
        {
          "output_type": "stream",
          "name": "stdout",
          "text": [
            "{'apple': 1, 'mangos': 2, 'oranges': 4, 'grapes': 3}\n",
            "{'apple': [0, 1, 5], 'oranges': [0, 1, 5]}\n",
            "{'apple': 1, 'mangos': 2, 'oranges': 4, 'grapes': 3}\n"
          ]
        }
      ]
    },
    {
      "cell_type": "markdown",
      "source": [
        "### items function"
      ],
      "metadata": {
        "id": "kfaWdl4YrgV5"
      }
    },
    {
      "cell_type": "code",
      "source": [
        "fruits = {'apple':1, 'mangos':2, 'oranges':4, 'grapes':3}\n",
        "print(fruits.items())"
      ],
      "metadata": {
        "colab": {
          "base_uri": "https://localhost:8080/"
        },
        "id": "bijqD1pPrjpw",
        "outputId": "f569b2c9-de26-4721-98c5-b63ee7fcc6fa"
      },
      "execution_count": 13,
      "outputs": [
        {
          "output_type": "stream",
          "name": "stdout",
          "text": [
            "dict_items([('apple', 1), ('mangos', 2), ('oranges', 4), ('grapes', 3)])\n"
          ]
        }
      ]
    },
    {
      "cell_type": "markdown",
      "source": [
        "### Keys function"
      ],
      "metadata": {
        "id": "GJEklwBUr4HR"
      }
    },
    {
      "cell_type": "code",
      "source": [
        "fruits = {'apple':1, 'mangos':2, 'oranges':4, 'grapes':3}\n",
        "print(fruits.keys())"
      ],
      "metadata": {
        "colab": {
          "base_uri": "https://localhost:8080/"
        },
        "id": "OVjG0Aj5r579",
        "outputId": "130c3447-e128-4531-d254-3aec784d7c61"
      },
      "execution_count": 14,
      "outputs": [
        {
          "output_type": "stream",
          "name": "stdout",
          "text": [
            "dict_keys(['apple', 'mangos', 'oranges', 'grapes'])\n"
          ]
        }
      ]
    },
    {
      "cell_type": "markdown",
      "source": [
        "### Looping through a dict in python"
      ],
      "metadata": {
        "id": "ekbA7XHYsCvL"
      }
    },
    {
      "cell_type": "code",
      "source": [
        "fruits = {'apple':1, 'mangos':2, 'oranges':4, 'grapes':3}\n",
        "for k,v in fruits.items():\n",
        " print(k,v)"
      ],
      "metadata": {
        "colab": {
          "base_uri": "https://localhost:8080/"
        },
        "id": "HLkaKcWgsGZj",
        "outputId": "5b34c2cc-3dd6-4f62-8cae-50656f40116f"
      },
      "execution_count": 17,
      "outputs": [
        {
          "output_type": "stream",
          "name": "stdout",
          "text": [
            "apple 1\n",
            "mangos 2\n",
            "oranges 4\n",
            "grapes 3\n"
          ]
        }
      ]
    },
    {
      "cell_type": "markdown",
      "source": [
        "From the above code, (k,v) means (key and value) => k,v"
      ],
      "metadata": {
        "id": "cuAT6xo7smGG"
      }
    }
  ]
}
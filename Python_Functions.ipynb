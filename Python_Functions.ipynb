{
  "nbformat": 4,
  "nbformat_minor": 0,
  "metadata": {
    "colab": {
      "provenance": [],
      "authorship_tag": "ABX9TyOA1YB1kasQE3arr/Q/Kf+y",
      "include_colab_link": true
    },
    "kernelspec": {
      "name": "python3",
      "display_name": "Python 3"
    },
    "language_info": {
      "name": "python"
    }
  },
  "cells": [
    {
      "cell_type": "markdown",
      "metadata": {
        "id": "view-in-github",
        "colab_type": "text"
      },
      "source": [
        "<a href=\"https://colab.research.google.com/github/daniel-hau-shan12/Python-Colab/blob/main/Python_Functions.ipynb\" target=\"_parent\"><img src=\"https://colab.research.google.com/assets/colab-badge.svg\" alt=\"Open In Colab\"/></a>"
      ]
    },
    {
      "cell_type": "markdown",
      "source": [
        "### Functions\n",
        "- 1) Function header,\n",
        "- 2) Function body,\n",
        "- 3) Function call"
      ],
      "metadata": {
        "id": "33eBY9LLI9AR"
      }
    },
    {
      "cell_type": "markdown",
      "source": [
        "### Help function"
      ],
      "metadata": {
        "id": "vpJtW7MFJnB1"
      }
    },
    {
      "cell_type": "code",
      "source": [
        "help(len)"
      ],
      "metadata": {
        "colab": {
          "base_uri": "https://localhost:8080/"
        },
        "id": "isXFG_VPJrP0",
        "outputId": "93df16a8-21f3-47a7-b559-340d7604df6f"
      },
      "execution_count": 1,
      "outputs": [
        {
          "output_type": "stream",
          "name": "stdout",
          "text": [
            "Help on built-in function len in module builtins:\n",
            "\n",
            "len(obj, /)\n",
            "    Return the number of items in a container.\n",
            "\n"
          ]
        }
      ]
    },
    {
      "cell_type": "code",
      "source": [
        "help()"
      ],
      "metadata": {
        "id": "IuHS1tKgLqx9"
      },
      "execution_count": null,
      "outputs": []
    },
    {
      "cell_type": "markdown",
      "source": [
        "### Defining functions"
      ],
      "metadata": {
        "id": "OyIZh376J_fJ"
      }
    },
    {
      "cell_type": "code",
      "source": [
        "def multiply(first_num, second_num=3):\n",
        "  result = first_num * second_num\n",
        "  return result\n",
        "\n",
        "res = multiply(4,6)\n",
        "print(res)"
      ],
      "metadata": {
        "colab": {
          "base_uri": "https://localhost:8080/"
        },
        "id": "JG9W6XTuKClq",
        "outputId": "14adcaeb-4d2a-4e07-f216-de2d4d3b766c"
      },
      "execution_count": 3,
      "outputs": [
        {
          "output_type": "stream",
          "name": "stdout",
          "text": [
            "24\n"
          ]
        }
      ]
    },
    {
      "cell_type": "markdown",
      "source": [
        "### Calling functions"
      ],
      "metadata": {
        "id": "BLo6L5C6LCb8"
      }
    },
    {
      "cell_type": "code",
      "source": [
        "#res = multiply(4,6)\n",
        "#print(res)"
      ],
      "metadata": {
        "id": "pObqHKE8LG47"
      },
      "execution_count": 4,
      "outputs": []
    }
  ]
}
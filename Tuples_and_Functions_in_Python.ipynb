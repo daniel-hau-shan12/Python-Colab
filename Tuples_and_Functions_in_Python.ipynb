{
  "nbformat": 4,
  "nbformat_minor": 0,
  "metadata": {
    "colab": {
      "provenance": [],
      "authorship_tag": "ABX9TyOhq8CxZBNLPhx0xb+Y6Azy",
      "include_colab_link": true
    },
    "kernelspec": {
      "name": "python3",
      "display_name": "Python 3"
    },
    "language_info": {
      "name": "python"
    }
  },
  "cells": [
    {
      "cell_type": "markdown",
      "metadata": {
        "id": "view-in-github",
        "colab_type": "text"
      },
      "source": [
        "<a href=\"https://colab.research.google.com/github/daniel-hau-shan12/Python-Colab/blob/main/Tuples_and_Functions_in_Python.ipynb\" target=\"_parent\"><img src=\"https://colab.research.google.com/assets/colab-badge.svg\" alt=\"Open In Colab\"/></a>"
      ]
    },
    {
      "cell_type": "markdown",
      "source": [
        "### Tuples\n",
        "Elements in a tuple cannot change"
      ],
      "metadata": {
        "id": "4xp02iysf47O"
      }
    },
    {
      "cell_type": "code",
      "source": [
        "my_tuple=(1,2,3,4)\n",
        "my_tuple[2]= \"Haulah\"\n",
        "print(my_tuple)"
      ],
      "metadata": {
        "colab": {
          "base_uri": "https://localhost:8080/",
          "height": 210
        },
        "id": "WYAq08imf8W7",
        "outputId": "fa4f152c-87ed-40d4-ec4b-23d8399685a4"
      },
      "execution_count": null,
      "outputs": [
        {
          "output_type": "error",
          "ename": "TypeError",
          "evalue": "ignored",
          "traceback": [
            "\u001b[0;31m---------------------------------------------------------------------------\u001b[0m",
            "\u001b[0;31mTypeError\u001b[0m                                 Traceback (most recent call last)",
            "\u001b[0;32m<ipython-input-1-1de2c477e1cc>\u001b[0m in \u001b[0;36m<cell line: 2>\u001b[0;34m()\u001b[0m\n\u001b[1;32m      1\u001b[0m \u001b[0mmy_tuple\u001b[0m\u001b[0;34m=\u001b[0m\u001b[0;34m(\u001b[0m\u001b[0;36m1\u001b[0m\u001b[0;34m,\u001b[0m\u001b[0;36m2\u001b[0m\u001b[0;34m,\u001b[0m\u001b[0;36m3\u001b[0m\u001b[0;34m,\u001b[0m\u001b[0;36m4\u001b[0m\u001b[0;34m)\u001b[0m\u001b[0;34m\u001b[0m\u001b[0;34m\u001b[0m\u001b[0m\n\u001b[0;32m----> 2\u001b[0;31m \u001b[0mmy_tuple\u001b[0m\u001b[0;34m[\u001b[0m\u001b[0;36m2\u001b[0m\u001b[0;34m]\u001b[0m\u001b[0;34m=\u001b[0m \u001b[0;34m\"Haulah\"\u001b[0m\u001b[0;34m\u001b[0m\u001b[0;34m\u001b[0m\u001b[0m\n\u001b[0m\u001b[1;32m      3\u001b[0m \u001b[0mprint\u001b[0m\u001b[0;34m(\u001b[0m\u001b[0mmy_tuple\u001b[0m\u001b[0;34m)\u001b[0m\u001b[0;34m\u001b[0m\u001b[0;34m\u001b[0m\u001b[0m\n",
            "\u001b[0;31mTypeError\u001b[0m: 'tuple' object does not support item assignment"
          ]
        }
      ]
    },
    {
      "cell_type": "code",
      "source": [
        "print(type(my_tuple))"
      ],
      "metadata": {
        "colab": {
          "base_uri": "https://localhost:8080/"
        },
        "id": "MttQ15rCgV5I",
        "outputId": "413bf9ba-a0bc-46b5-853b-f27e52af6253"
      },
      "execution_count": null,
      "outputs": [
        {
          "output_type": "stream",
          "name": "stdout",
          "text": [
            "<class 'tuple'>\n"
          ]
        }
      ]
    },
    {
      "cell_type": "markdown",
      "source": [
        "### Empty tuples"
      ],
      "metadata": {
        "id": "gC9VLKj1hIDv"
      }
    },
    {
      "cell_type": "code",
      "source": [
        "empty_tuple=()\n",
        "print(empty_tuple)\n",
        "print(len(empty_tuple))\n",
        "print(type(empty_tuple))\n"
      ],
      "metadata": {
        "colab": {
          "base_uri": "https://localhost:8080/"
        },
        "id": "Yo6FM4A6hLcp",
        "outputId": "0934d6cb-1df9-49dc-a29b-041bb4079267"
      },
      "execution_count": null,
      "outputs": [
        {
          "output_type": "stream",
          "name": "stdout",
          "text": [
            "()\n",
            "0\n",
            "<class 'tuple'>\n"
          ]
        }
      ]
    },
    {
      "cell_type": "markdown",
      "source": [
        "### Tuple Packing"
      ],
      "metadata": {
        "id": "ZnUH1YsgiTjF"
      }
    },
    {
      "cell_type": "code",
      "source": [
        "t=(1,2,3)\n",
        "x,y,z=t\n",
        "print(x)\n",
        "print(y)\n",
        "print(z)"
      ],
      "metadata": {
        "colab": {
          "base_uri": "https://localhost:8080/"
        },
        "id": "67WSWJVthcRc",
        "outputId": "c6d8ae8a-f355-4e74-a0ef-25a269564a69"
      },
      "execution_count": null,
      "outputs": [
        {
          "output_type": "stream",
          "name": "stdout",
          "text": [
            "1\n",
            "2\n",
            "3\n"
          ]
        }
      ]
    },
    {
      "cell_type": "code",
      "source": [
        "t = \"1\", \"2\", \"3\"\n",
        "print(t)\n",
        "print(type(t))"
      ],
      "metadata": {
        "colab": {
          "base_uri": "https://localhost:8080/"
        },
        "id": "7kssbjPtiiiX",
        "outputId": "276f75da-2653-450b-e3ae-57a980c9df0a"
      },
      "execution_count": 5,
      "outputs": [
        {
          "output_type": "stream",
          "name": "stdout",
          "text": [
            "('1', '2', '3')\n",
            "<class 'tuple'>\n"
          ]
        }
      ]
    },
    {
      "cell_type": "markdown",
      "source": [
        "### Tuples with one element"
      ],
      "metadata": {
        "id": "cYVj9fM3hGvb"
      }
    },
    {
      "cell_type": "code",
      "source": [
        "tuple1 = (\"Daniel\")\n",
        "print(type(tuple1))"
      ],
      "metadata": {
        "colab": {
          "base_uri": "https://localhost:8080/"
        },
        "id": "KMOueZdIhNNC",
        "outputId": "7d9d6590-de1f-4c98-872e-49573d8a2afb"
      },
      "execution_count": 1,
      "outputs": [
        {
          "output_type": "stream",
          "name": "stdout",
          "text": [
            "<class 'str'>\n"
          ]
        }
      ]
    },
    {
      "cell_type": "code",
      "source": [
        "tuple2 = (4)\n",
        "print(type(tuple2))"
      ],
      "metadata": {
        "colab": {
          "base_uri": "https://localhost:8080/"
        },
        "id": "aeUoYm4JhUvd",
        "outputId": "54d935dd-a653-4e1e-a61c-7aaf63ec12e0"
      },
      "execution_count": 2,
      "outputs": [
        {
          "output_type": "stream",
          "name": "stdout",
          "text": [
            "<class 'int'>\n"
          ]
        }
      ]
    },
    {
      "cell_type": "markdown",
      "source": [
        "### Using trailing comma"
      ],
      "metadata": {
        "id": "Osp2xBxBhmcX"
      }
    },
    {
      "cell_type": "code",
      "source": [
        "tuple1 = (\"Daniel\"),\n",
        "print(type(tuple1))\n",
        "tuple2 = (4),\n",
        "print(type(tuple2))"
      ],
      "metadata": {
        "colab": {
          "base_uri": "https://localhost:8080/"
        },
        "id": "buQ3FfB4hoxu",
        "outputId": "cebd15d0-2a10-4c1a-d0d9-18b3e1bc53a2"
      },
      "execution_count": 4,
      "outputs": [
        {
          "output_type": "stream",
          "name": "stdout",
          "text": [
            "<class 'tuple'>\n",
            "<class 'tuple'>\n"
          ]
        }
      ]
    },
    {
      "cell_type": "markdown",
      "source": [
        "### Tuple functions"
      ],
      "metadata": {
        "id": "kXA6J3pkjpRC"
      }
    },
    {
      "cell_type": "code",
      "source": [
        "tuple1 =(1,2,3,4,2,3,4,2,1)\n",
        "print(tuple1.count(2))"
      ],
      "metadata": {
        "colab": {
          "base_uri": "https://localhost:8080/"
        },
        "id": "GDpNsMtujsHP",
        "outputId": "d59caf00-a5e8-4879-d50f-aafda49c12f1"
      },
      "execution_count": 6,
      "outputs": [
        {
          "output_type": "stream",
          "name": "stdout",
          "text": [
            "3\n"
          ]
        }
      ]
    },
    {
      "cell_type": "code",
      "source": [
        "tuple1 =(1,2,3,4,2,3,4,2,1)\n",
        "return_func = tuple1.count(2)\n",
        "print(return_func)"
      ],
      "metadata": {
        "colab": {
          "base_uri": "https://localhost:8080/"
        },
        "id": "Orbmzrruj8iT",
        "outputId": "3079bd36-d14b-45f0-9c36-06c9516a930e"
      },
      "execution_count": 7,
      "outputs": [
        {
          "output_type": "stream",
          "name": "stdout",
          "text": [
            "3\n"
          ]
        }
      ]
    },
    {
      "cell_type": "code",
      "source": [
        "tuple1.index(1)"
      ],
      "metadata": {
        "colab": {
          "base_uri": "https://localhost:8080/"
        },
        "id": "r06W86b-kGKn",
        "outputId": "6bcd4eb9-08d4-49c8-9da8-5c1843bf0851"
      },
      "execution_count": 8,
      "outputs": [
        {
          "output_type": "execute_result",
          "data": {
            "text/plain": [
              "0"
            ]
          },
          "metadata": {},
          "execution_count": 8
        }
      ]
    }
  ]
}
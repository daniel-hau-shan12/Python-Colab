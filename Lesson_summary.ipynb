{
  "nbformat": 4,
  "nbformat_minor": 0,
  "metadata": {
    "colab": {
      "provenance": [],
      "authorship_tag": "ABX9TyMeJKhksG2PPTM+v7aNGtph",
      "include_colab_link": true
    },
    "kernelspec": {
      "name": "python3",
      "display_name": "Python 3"
    },
    "language_info": {
      "name": "python"
    }
  },
  "cells": [
    {
      "cell_type": "markdown",
      "metadata": {
        "id": "view-in-github",
        "colab_type": "text"
      },
      "source": [
        "<a href=\"https://colab.research.google.com/github/daniel-hau-shan12/Python-Colab/blob/main/Lesson_summary.ipynb\" target=\"_parent\"><img src=\"https://colab.research.google.com/assets/colab-badge.svg\" alt=\"Open In Colab\"/></a>"
      ]
    },
    {
      "cell_type": "code",
      "execution_count": null,
      "metadata": {
        "colab": {
          "base_uri": "https://localhost:8080/"
        },
        "id": "RNFLIMPmwpJp",
        "outputId": "20fda7e4-7b44-4ae6-a326-8fa998d5c135"
      },
      "outputs": [
        {
          "output_type": "stream",
          "name": "stdout",
          "text": [
            "Python 3\n"
          ]
        }
      ],
      "source": [
        "print('Python 3')"
      ]
    },
    {
      "cell_type": "markdown",
      "source": [
        "We use two methods in our decision-making, either intuitively or statistically. Statistics includes two main branches:\n",
        "- Descriptive statistics\n",
        "- Inferential statistics\n",
        "\n",
        "Descriptive statistics is basically used for the representation of data. The data can be divided into numerical data and categorical data. The numerical data can be subdivided into continuous data and discrete data. The categorical data can be subdivided into nominal data and ordinal data.\n",
        "\n",
        "The mean is the average of the data. The mean is greatly affected by outliers. The median is the middle value of a sorted dataset. The mode is the value that occurs most often in a dataset. The mode is immune to outliers. A dataset can have two or more modes, namely bimodal, trimodal or multimodal. A dataset may have no mode.\n",
        "\n",
        "The mean is a good measure for a dataset without outliers. The Median more accurately describes data with outliers. The mode is a good measure to use when we have categorical data.\n",
        "\n",
        "Statisticians and data scientists mostly deal with sample data and approximate parameters for the population data. Sample variance is usually greater than population variance. The division by N-1 ensures to compensate for our lack of information about the population data.\n",
        "\n",
        "The standard deviation is the square root of variance. The coefficient of variation is the standard deviation divided by the mean. It is the dispersion of data relative to its mean. It is useful in comparing two datasets.\n",
        "\n",
        "The covariance measures the directional relationship between two variables. There are three types:\n",
        "- Positive COV\n",
        "- Negative COV\n",
        "- Zero COV\n",
        "\n",
        "The Covariance tells us the type of relationship two variables have, but the correlation tells us the strength of that relationship.\n",
        "\n",
        "Probability is the likelihood of an event occurring. It is about quantifying how likely each event is on its own. We measure a probability with numeric values between 0 and 1 because we like to compare the relative likelihood of events.\n",
        "\n",
        "Numerical Python (NumPy) is an efficient interface to store and manipulate data. NumPy is the core of almost all the data science tools in Python. For example, NumPy is used to create and manipulate arrays."
      ],
      "metadata": {
        "id": "wqnysiQWzzzs"
      }
    }
  ]
}